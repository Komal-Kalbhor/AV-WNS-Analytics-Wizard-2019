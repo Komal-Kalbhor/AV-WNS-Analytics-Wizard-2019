{
 "cells": [
  {
   "cell_type": "code",
   "execution_count": 1,
   "metadata": {},
   "outputs": [],
   "source": [
    "import pandas as pd\n",
    "import numpy as np\n",
    "from sklearn.model_selection import train_test_split\n",
    "from sklearn.ensemble import RandomForestClassifier\n",
    "from sklearn.ensemble import GradientBoostingClassifier\n",
    "from sklearn.linear_model import LogisticRegression\n",
    "from xgboost import XGBClassifier\n",
    "from imblearn.over_sampling import RandomOverSampler\n",
    "from imblearn.over_sampling import SMOTE\n",
    "from sklearn import metrics\n",
    "from collections import Counter\n",
    "import warnings\n",
    "import matplotlib.pyplot as plt\n",
    "warnings.filterwarnings('ignore')\n",
    "%matplotlib inline\n"
   ]
  },
  {
   "cell_type": "code",
   "execution_count": 2,
   "metadata": {},
   "outputs": [
    {
     "name": "stdout",
     "output_type": "stream",
     "text": [
      "<class 'pandas.core.frame.DataFrame'>\n",
      "RangeIndex: 3118622 entries, 0 to 3118621\n",
      "Data columns (total 5 columns):\n",
      "server_time    object\n",
      "device_type    object\n",
      "session_id     int64\n",
      "user_id        int64\n",
      "item_id        int64\n",
      "dtypes: int64(3), object(2)\n",
      "memory usage: 119.0+ MB\n",
      "None\n",
      "<class 'pandas.core.frame.DataFrame'>\n",
      "RangeIndex: 132761 entries, 0 to 132760\n",
      "Data columns (total 6 columns):\n",
      "item_id         132761 non-null int64\n",
      "item_price      132761 non-null int64\n",
      "category_1      132761 non-null int64\n",
      "category_2      132761 non-null int64\n",
      "category_3      132761 non-null int64\n",
      "product_type    132761 non-null int64\n",
      "dtypes: int64(6)\n",
      "memory usage: 6.1 MB\n",
      "None\n"
     ]
    }
   ],
   "source": [
    "traindata = pd.read_csv(\"train_NA17Sgz/train.csv\")\n",
    "testdata = pd.read_csv(\"test_aq1FGdB/test.csv\")\n",
    "submission = pd.read_csv(\"sample_submission_IPsBlCT/sample_submission.csv\")\n",
    "viewlog = pd.read_csv(\"train_NA17Sgz/view_log.csv\")\n",
    "itemdata = pd.read_csv(\"train_NA17Sgz/item_data.csv\")\n",
    "print(viewlog.info())\n",
    "print(itemdata.info())"
   ]
  },
  {
   "cell_type": "code",
   "execution_count": 3,
   "metadata": {},
   "outputs": [
    {
     "name": "stdout",
     "output_type": "stream",
     "text": [
      "<class 'pandas.core.frame.DataFrame'>\n",
      "RangeIndex: 237609 entries, 0 to 237608\n",
      "Data columns (total 7 columns):\n",
      "impression_id      237609 non-null object\n",
      "impression_time    237609 non-null object\n",
      "user_id            237609 non-null int64\n",
      "app_code           237609 non-null int64\n",
      "os_version         237609 non-null object\n",
      "is_4G              237609 non-null int64\n",
      "is_click           237609 non-null int64\n",
      "dtypes: int64(4), object(3)\n",
      "memory usage: 12.7+ MB\n",
      "None\n",
      "<class 'pandas.core.frame.DataFrame'>\n",
      "RangeIndex: 90675 entries, 0 to 90674\n",
      "Data columns (total 6 columns):\n",
      "impression_id      90675 non-null object\n",
      "impression_time    90675 non-null object\n",
      "user_id            90675 non-null int64\n",
      "app_code           90675 non-null int64\n",
      "os_version         90675 non-null object\n",
      "is_4G              90675 non-null int64\n",
      "dtypes: int64(3), object(3)\n",
      "memory usage: 4.2+ MB\n",
      "None\n",
      "<class 'pandas.core.frame.DataFrame'>\n",
      "RangeIndex: 90675 entries, 0 to 90674\n",
      "Data columns (total 2 columns):\n",
      "impression_id    90675 non-null object\n",
      "is_click         90675 non-null int64\n",
      "dtypes: int64(1), object(1)\n",
      "memory usage: 1.4+ MB\n",
      "None\n"
     ]
    }
   ],
   "source": [
    "print(traindata.info())\n",
    "print(testdata.info())\n",
    "print(submission.info())"
   ]
  },
  {
   "cell_type": "code",
   "execution_count": 4,
   "metadata": {},
   "outputs": [
    {
     "data": {
      "text/html": [
       "<div>\n",
       "<style scoped>\n",
       "    .dataframe tbody tr th:only-of-type {\n",
       "        vertical-align: middle;\n",
       "    }\n",
       "\n",
       "    .dataframe tbody tr th {\n",
       "        vertical-align: top;\n",
       "    }\n",
       "\n",
       "    .dataframe thead th {\n",
       "        text-align: right;\n",
       "    }\n",
       "</style>\n",
       "<table border=\"1\" class=\"dataframe\">\n",
       "  <thead>\n",
       "    <tr style=\"text-align: right;\">\n",
       "      <th></th>\n",
       "      <th>impression_id</th>\n",
       "      <th>impression_time</th>\n",
       "      <th>user_id</th>\n",
       "      <th>app_code</th>\n",
       "      <th>os_version</th>\n",
       "      <th>is_4G</th>\n",
       "      <th>is_click</th>\n",
       "    </tr>\n",
       "  </thead>\n",
       "  <tbody>\n",
       "    <tr>\n",
       "      <th>0</th>\n",
       "      <td>c4ca4238a0b923820dcc509a6f75849b</td>\n",
       "      <td>2018-11-15 00:00:00</td>\n",
       "      <td>87862</td>\n",
       "      <td>422</td>\n",
       "      <td>old</td>\n",
       "      <td>0</td>\n",
       "      <td>0</td>\n",
       "    </tr>\n",
       "    <tr>\n",
       "      <th>1</th>\n",
       "      <td>45c48cce2e2d7fbdea1afc51c7c6ad26</td>\n",
       "      <td>2018-11-15 00:01:00</td>\n",
       "      <td>63410</td>\n",
       "      <td>467</td>\n",
       "      <td>latest</td>\n",
       "      <td>1</td>\n",
       "      <td>1</td>\n",
       "    </tr>\n",
       "    <tr>\n",
       "      <th>2</th>\n",
       "      <td>70efdf2ec9b086079795c442636b55fb</td>\n",
       "      <td>2018-11-15 00:02:00</td>\n",
       "      <td>71748</td>\n",
       "      <td>259</td>\n",
       "      <td>intermediate</td>\n",
       "      <td>1</td>\n",
       "      <td>0</td>\n",
       "    </tr>\n",
       "    <tr>\n",
       "      <th>3</th>\n",
       "      <td>8e296a067a37563370ded05f5a3bf3ec</td>\n",
       "      <td>2018-11-15 00:02:00</td>\n",
       "      <td>69209</td>\n",
       "      <td>244</td>\n",
       "      <td>latest</td>\n",
       "      <td>1</td>\n",
       "      <td>0</td>\n",
       "    </tr>\n",
       "    <tr>\n",
       "      <th>4</th>\n",
       "      <td>182be0c5cdcd5072bb1864cdee4d3d6e</td>\n",
       "      <td>2018-11-15 00:02:00</td>\n",
       "      <td>62873</td>\n",
       "      <td>473</td>\n",
       "      <td>latest</td>\n",
       "      <td>0</td>\n",
       "      <td>0</td>\n",
       "    </tr>\n",
       "  </tbody>\n",
       "</table>\n",
       "</div>"
      ],
      "text/plain": [
       "                      impression_id      impression_time  user_id  app_code  \\\n",
       "0  c4ca4238a0b923820dcc509a6f75849b  2018-11-15 00:00:00    87862       422   \n",
       "1  45c48cce2e2d7fbdea1afc51c7c6ad26  2018-11-15 00:01:00    63410       467   \n",
       "2  70efdf2ec9b086079795c442636b55fb  2018-11-15 00:02:00    71748       259   \n",
       "3  8e296a067a37563370ded05f5a3bf3ec  2018-11-15 00:02:00    69209       244   \n",
       "4  182be0c5cdcd5072bb1864cdee4d3d6e  2018-11-15 00:02:00    62873       473   \n",
       "\n",
       "     os_version  is_4G  is_click  \n",
       "0           old      0         0  \n",
       "1        latest      1         1  \n",
       "2  intermediate      1         0  \n",
       "3        latest      1         0  \n",
       "4        latest      0         0  "
      ]
     },
     "execution_count": 4,
     "metadata": {},
     "output_type": "execute_result"
    }
   ],
   "source": [
    "traindata.head()"
   ]
  },
  {
   "cell_type": "code",
   "execution_count": 5,
   "metadata": {},
   "outputs": [
    {
     "data": {
      "text/plain": [
       "0    95.428624\n",
       "1     4.571376\n",
       "Name: is_click, dtype: float64"
      ]
     },
     "execution_count": 5,
     "metadata": {},
     "output_type": "execute_result"
    }
   ],
   "source": [
    "traindata.is_click.value_counts()/traindata.shape[0]*100"
   ]
  },
  {
   "cell_type": "code",
   "execution_count": 6,
   "metadata": {},
   "outputs": [
    {
     "name": "stdout",
     "output_type": "stream",
     "text": [
      "<class 'pandas.core.frame.DataFrame'>\n",
      "RangeIndex: 237609 entries, 0 to 237608\n",
      "Data columns (total 9 columns):\n",
      "impression_id      237609 non-null object\n",
      "impression_time    237609 non-null object\n",
      "user_id            237609 non-null int64\n",
      "app_code           237609 non-null int64\n",
      "os_version         237609 non-null object\n",
      "is_4G              237609 non-null int64\n",
      "is_click           237609 non-null int64\n",
      "device_type        237609 non-null object\n",
      "user_id_r_         237609 non-null int64\n",
      "dtypes: int64(5), object(4)\n",
      "memory usage: 16.3+ MB\n"
     ]
    }
   ],
   "source": [
    "train_view = traindata.join(viewlog[[\"device_type\",\"user_id\"]],on=\"user_id\",rsuffix=\"_r_\")\n",
    "train_view.info()"
   ]
  },
  {
   "cell_type": "code",
   "execution_count": 7,
   "metadata": {},
   "outputs": [
    {
     "name": "stdout",
     "output_type": "stream",
     "text": [
      "<class 'pandas.core.frame.DataFrame'>\n",
      "RangeIndex: 90675 entries, 0 to 90674\n",
      "Data columns (total 8 columns):\n",
      "impression_id      90675 non-null object\n",
      "impression_time    90675 non-null object\n",
      "user_id            90675 non-null int64\n",
      "app_code           90675 non-null int64\n",
      "os_version         90675 non-null object\n",
      "is_4G              90675 non-null int64\n",
      "device_type        90675 non-null object\n",
      "user_id_r_         90675 non-null int64\n",
      "dtypes: int64(4), object(4)\n",
      "memory usage: 5.5+ MB\n"
     ]
    }
   ],
   "source": [
    "test_view = testdata.join(viewlog[[\"device_type\",\"user_id\"]],on=\"user_id\",rsuffix=\"_r_\")\n",
    "test_view.info()"
   ]
  },
  {
   "cell_type": "markdown",
   "metadata": {},
   "source": [
    "## Dummy variables"
   ]
  },
  {
   "cell_type": "code",
   "execution_count": 8,
   "metadata": {},
   "outputs": [
    {
     "name": "stdout",
     "output_type": "stream",
     "text": [
      "(237609, 8)\n",
      "(237609,)\n",
      "Index(['os_version__intermediate', 'os_version__latest', 'os_version__old',\n",
      "       'device_type__android', 'device_type__iphone', 'device_type__web',\n",
      "       'app_code', 'is_4G'],\n",
      "      dtype='object')\n"
     ]
    }
   ],
   "source": [
    "batch_1_encoded = pd.get_dummies(train_view['os_version'], prefix='os_version_')\n",
    "batch_2_encoded = pd.get_dummies(train_view['device_type'], prefix='device_type_')\n",
    "exclude = ['is_click','os_version','impression_id','impression_time','user_id','user_id_r_','device_type','server_time','session_id','item_id']\n",
    "traindata2 = train_view.loc[:,train_view.columns.difference(exclude)]\n",
    "# # Row-bind (append) Encoded Data Back Together\n",
    "final_traindata = pd.concat([batch_1_encoded,batch_2_encoded, traindata2], axis=1)\n",
    "\n",
    "Xtrain = final_traindata.loc[:,]\n",
    "ytrain = train_view['is_click']\n",
    "print(Xtrain.shape)\n",
    "print(ytrain.shape)\n",
    "print(Xtrain.columns)"
   ]
  },
  {
   "cell_type": "code",
   "execution_count": 9,
   "metadata": {},
   "outputs": [
    {
     "name": "stdout",
     "output_type": "stream",
     "text": [
      "(90675, 8)\n",
      "Index(['os_version__intermediate', 'os_version__latest', 'os_version__old',\n",
      "       'device_type__android', 'device_type__iphone', 'device_type__web',\n",
      "       'app_code', 'is_4G'],\n",
      "      dtype='object')\n"
     ]
    }
   ],
   "source": [
    "batch_1_encoded = pd.get_dummies(test_view['os_version'], prefix='os_version_')\n",
    "batch_2_encoded = pd.get_dummies(test_view['device_type'], prefix='device_type_')\n",
    "exclude = ['is_click','os_version','impression_id','impression_time','user_id','user_id_r_','device_type','server_time','session_id','item_id']\n",
    "testdata2 = test_view.loc[:,test_view.columns.difference(exclude)]\n",
    "# # Row-bind (append) Encoded Data Back Together\n",
    "final_testdata = pd.concat([batch_1_encoded, batch_2_encoded,testdata2], axis=1)\n",
    "\n",
    "Xtest = final_testdata.loc[:,]\n",
    "# Xtest['device_type__web'] = 0\n",
    "Xtest.insert(5,\"device_type__web\",0)\n",
    "ytest = []\n",
    "print(Xtest.shape)\n",
    "print(Xtest.columns)"
   ]
  },
  {
   "cell_type": "code",
   "execution_count": 10,
   "metadata": {},
   "outputs": [
    {
     "data": {
      "text/html": [
       "<div>\n",
       "<style scoped>\n",
       "    .dataframe tbody tr th:only-of-type {\n",
       "        vertical-align: middle;\n",
       "    }\n",
       "\n",
       "    .dataframe tbody tr th {\n",
       "        vertical-align: top;\n",
       "    }\n",
       "\n",
       "    .dataframe thead th {\n",
       "        text-align: right;\n",
       "    }\n",
       "</style>\n",
       "<table border=\"1\" class=\"dataframe\">\n",
       "  <thead>\n",
       "    <tr style=\"text-align: right;\">\n",
       "      <th></th>\n",
       "      <th>os_version__intermediate</th>\n",
       "      <th>os_version__latest</th>\n",
       "      <th>os_version__old</th>\n",
       "      <th>device_type__android</th>\n",
       "      <th>device_type__iphone</th>\n",
       "      <th>device_type__web</th>\n",
       "      <th>app_code</th>\n",
       "      <th>is_4G</th>\n",
       "    </tr>\n",
       "  </thead>\n",
       "  <tbody>\n",
       "    <tr>\n",
       "      <th>90670</th>\n",
       "      <td>0</td>\n",
       "      <td>1</td>\n",
       "      <td>0</td>\n",
       "      <td>1</td>\n",
       "      <td>0</td>\n",
       "      <td>0</td>\n",
       "      <td>371</td>\n",
       "      <td>0</td>\n",
       "    </tr>\n",
       "    <tr>\n",
       "      <th>90671</th>\n",
       "      <td>0</td>\n",
       "      <td>1</td>\n",
       "      <td>0</td>\n",
       "      <td>1</td>\n",
       "      <td>0</td>\n",
       "      <td>0</td>\n",
       "      <td>151</td>\n",
       "      <td>1</td>\n",
       "    </tr>\n",
       "    <tr>\n",
       "      <th>90672</th>\n",
       "      <td>0</td>\n",
       "      <td>0</td>\n",
       "      <td>1</td>\n",
       "      <td>1</td>\n",
       "      <td>0</td>\n",
       "      <td>0</td>\n",
       "      <td>243</td>\n",
       "      <td>0</td>\n",
       "    </tr>\n",
       "    <tr>\n",
       "      <th>90673</th>\n",
       "      <td>0</td>\n",
       "      <td>1</td>\n",
       "      <td>0</td>\n",
       "      <td>1</td>\n",
       "      <td>0</td>\n",
       "      <td>0</td>\n",
       "      <td>272</td>\n",
       "      <td>1</td>\n",
       "    </tr>\n",
       "    <tr>\n",
       "      <th>90674</th>\n",
       "      <td>0</td>\n",
       "      <td>1</td>\n",
       "      <td>0</td>\n",
       "      <td>1</td>\n",
       "      <td>0</td>\n",
       "      <td>0</td>\n",
       "      <td>242</td>\n",
       "      <td>1</td>\n",
       "    </tr>\n",
       "  </tbody>\n",
       "</table>\n",
       "</div>"
      ],
      "text/plain": [
       "       os_version__intermediate  os_version__latest  os_version__old  \\\n",
       "90670                         0                   1                0   \n",
       "90671                         0                   1                0   \n",
       "90672                         0                   0                1   \n",
       "90673                         0                   1                0   \n",
       "90674                         0                   1                0   \n",
       "\n",
       "       device_type__android  device_type__iphone  device_type__web  app_code  \\\n",
       "90670                     1                    0                 0       371   \n",
       "90671                     1                    0                 0       151   \n",
       "90672                     1                    0                 0       243   \n",
       "90673                     1                    0                 0       272   \n",
       "90674                     1                    0                 0       242   \n",
       "\n",
       "       is_4G  \n",
       "90670      0  \n",
       "90671      1  \n",
       "90672      0  \n",
       "90673      1  \n",
       "90674      1  "
      ]
     },
     "execution_count": 10,
     "metadata": {},
     "output_type": "execute_result"
    }
   ],
   "source": [
    "Xtest.tail()"
   ]
  },
  {
   "cell_type": "markdown",
   "metadata": {},
   "source": [
    "## Oversampling - Sampling is to be done on train data\n",
    "### 1. Using random over sampling - ROS"
   ]
  },
  {
   "cell_type": "code",
   "execution_count": 11,
   "metadata": {},
   "outputs": [
    {
     "name": "stdout",
     "output_type": "stream",
     "text": [
      "Original dataset shape Counter({0: 226747, 1: 10862})\n",
      "Resampled dataset shape Counter({0: 226747, 1: 226747})\n"
     ]
    }
   ],
   "source": [
    "print('Original dataset shape %s' % Counter(ytrain))\n",
    "ros = RandomOverSampler(random_state=42)\n",
    "ros_data_X, ros_data_y = ros.fit_resample(Xtrain, ytrain)\n",
    "print('Resampled dataset shape %s' % Counter(ros_data_y))"
   ]
  },
  {
   "cell_type": "markdown",
   "metadata": {},
   "source": [
    "### 2. Using random over sampling - SMOTE"
   ]
  },
  {
   "cell_type": "code",
   "execution_count": 12,
   "metadata": {},
   "outputs": [
    {
     "name": "stdout",
     "output_type": "stream",
     "text": [
      "Original dataset shape Counter({0: 226747, 1: 10862})\n",
      "Resampled dataset shape Counter({0: 226747, 1: 226747})\n"
     ]
    }
   ],
   "source": [
    "print('Original dataset shape %s' % Counter(ytrain))\n",
    "sos = SMOTE(random_state=0)\n",
    "sos_data_X, sos_data_y = sos.fit_sample(Xtrain, ytrain)\n",
    "print('Resampled dataset shape %s' % Counter(sos_data_y))\n"
   ]
  },
  {
   "cell_type": "markdown",
   "metadata": {},
   "source": [
    "## Logistic Regression"
   ]
  },
  {
   "cell_type": "code",
   "execution_count": 24,
   "metadata": {},
   "outputs": [],
   "source": [
    "#create an instance and fit the model \n",
    "logmodel = LogisticRegression(random_state=0)\n",
    "# logmodel.fit(os_data_X, os_data_y.values.ravel())\n",
    "logmodel.fit(sos_data_X, sos_data_y)\n",
    "#predictions\n",
    "predictions = logmodel.predict(Xtest)\n",
    "mysubmission = pd.DataFrame()\n",
    "mysubmission[\"impression_id\"] = submission[\"impression_id\"]\n",
    "mysubmission[\"is_click\"] = predictions\n",
    "mysubmission.to_csv(\"mysubmission.csv\",index=False)"
   ]
  },
  {
   "cell_type": "code",
   "execution_count": 25,
   "metadata": {},
   "outputs": [
    {
     "data": {
      "text/plain": [
       "array([0, 0, 0, ..., 1, 0, 0], dtype=int64)"
      ]
     },
     "execution_count": 25,
     "metadata": {},
     "output_type": "execute_result"
    }
   ],
   "source": [
    "predictions"
   ]
  },
  {
   "cell_type": "markdown",
   "metadata": {},
   "source": [
    "## Random Forest Classifier"
   ]
  },
  {
   "cell_type": "code",
   "execution_count": 34,
   "metadata": {},
   "outputs": [],
   "source": [
    "# random forest model creation\n",
    "params = {'n_estimators': 500, 'min_samples_split' : 4, 'random_state' : 42}\n",
    "rfc = RandomForestClassifier(**params)\n",
    "rfc.fit(ros_data_X,ros_data_y)\n",
    "# predictions\n",
    "rfc_predict = rfc.predict(Xtest)\n",
    "mysubmission = pd.DataFrame()\n",
    "mysubmission[\"impression_id\"] = submission[\"impression_id\"]\n",
    "mysubmission[\"is_click\"] = rfc_predict\n",
    "mysubmission.to_csv(\"mysubmission.csv\",index=False)"
   ]
  },
  {
   "cell_type": "code",
   "execution_count": 41,
   "metadata": {},
   "outputs": [
    {
     "data": {
      "text/plain": [
       "Index(['os_version__intermediate', 'os_version__latest', 'os_version__old',\n",
       "       'app_code', 'is_4G'],\n",
       "      dtype='object')"
      ]
     },
     "execution_count": 41,
     "metadata": {},
     "output_type": "execute_result"
    }
   ],
   "source": [
    "Xtrain.columns"
   ]
  },
  {
   "cell_type": "code",
   "execution_count": 37,
   "metadata": {},
   "outputs": [
    {
     "data": {
      "text/plain": [
       "array([0.00500015, 0.01051885, 0.00277542, 0.97577632, 0.00592926])"
      ]
     },
     "execution_count": 37,
     "metadata": {},
     "output_type": "execute_result"
    }
   ],
   "source": [
    "rfc.feature_importances_"
   ]
  },
  {
   "cell_type": "markdown",
   "metadata": {},
   "source": [
    "## Gradient Boosting Classifier"
   ]
  },
  {
   "cell_type": "code",
   "execution_count": 35,
   "metadata": {},
   "outputs": [],
   "source": [
    "params = {'n_estimators': 1000, 'max_depth': 4, 'learning_rate': 0.01}\n",
    "model = GradientBoostingClassifier(**params)\n",
    "model.fit(ros_data_X,ros_data_y)\n",
    "y_predicted = model.predict(Xtest)\n",
    "mysubmission = pd.DataFrame()\n",
    "mysubmission[\"impression_id\"] = submission[\"impression_id\"]\n",
    "mysubmission[\"is_click\"] = rfc_predict\n",
    "mysubmission.to_csv(\"mysubmission.csv\",index=False)"
   ]
  },
  {
   "cell_type": "markdown",
   "metadata": {},
   "source": [
    "## SVM"
   ]
  },
  {
   "cell_type": "code",
   "execution_count": null,
   "metadata": {},
   "outputs": [],
   "source": [
    "#Import svm model\n",
    "from sklearn import svm\n",
    "\n",
    "#Create a svm Classifier\n",
    "clf = svm.SVC(kernel='linear') \n",
    "\n",
    "#Train the model using the training sets\n",
    "clf.fit(ros_data_X,ros_data_y)\n",
    "\n",
    "#Predict the response for test dataset\n",
    "y_pred = clf.predict(Xtest)\n",
    "mysubmission = pd.DataFrame()\n",
    "mysubmission[\"impression_id\"] = submission[\"impression_id\"]\n",
    "mysubmission[\"is_click\"] = y_pred\n",
    "mysubmission.to_csv(\"mysubmission.csv\",index=False)"
   ]
  },
  {
   "cell_type": "markdown",
   "metadata": {},
   "source": [
    "## XGB"
   ]
  },
  {
   "cell_type": "code",
   "execution_count": 17,
   "metadata": {},
   "outputs": [],
   "source": [
    "Xtrain1 = pd.DataFrame(ros_data_X,columns=Xtrain.columns)\n",
    "ytrain1 = pd.DataFrame(ros_data_y,columns=[\"is_click\"])\n",
    "alg = XGBClassifier(learning_rate=0.1, n_estimators=700, max_depth=5,seed=27)\n",
    "alg.fit(Xtrain1,ytrain1)\n",
    "y_pred = alg.predict(Xtest)\n",
    "mysubmission = pd.DataFrame()\n",
    "mysubmission[\"impression_id\"] = submission[\"impression_id\"]\n",
    "mysubmission[\"is_click\"] = y_pred\n",
    "mysubmission.to_csv(\"mysubmission.csv\",index=False)"
   ]
  },
  {
   "cell_type": "code",
   "execution_count": 37,
   "metadata": {},
   "outputs": [
    {
     "name": "stdout",
     "output_type": "stream",
     "text": [
      "Geekps  ghvh for  Geeks\n",
      "for\n",
      "Geekps  ghvh for  Geeks\n"
     ]
    }
   ],
   "source": [
    "Xtrain1 = pd.DataFrame(ros_data_X,columns=Xtrain.columns)\n",
    "ytrain1 = pd.DataFrame(ros_data_y,columns=[\"is_click\"])\n",
    "\n",
    "alg = XGBClassifier(learning_rate=0.1, n_estimators=500, max_depth=5,\n",
    "                        min_child_weight=3, gamma=0.2, subsample=0.6, colsample_bytree=1.0,\n",
    "                        objective='binary:logistic', nthread=4, scale_pos_weight=1, seed=27)\n",
    "# alg.fit(sos_data_X,sos_data_y)\n",
    "alg.fit(Xtrain1,ytrain1)\n",
    "y_pred = alg.predict(Xtest)\n",
    "mysubmission = pd.DataFrame()\n",
    "mysubmission[\"impression_id\"] = submission[\"impression_id\"]\n",
    "mysubmission[\"is_click\"] = y_pred\n",
    "mysubmission.to_csv(\"mysubmission2.csv\",index=False)"
   ]
  },
  {
   "cell_type": "code",
   "execution_count": null,
   "metadata": {},
   "outputs": [],
   "source": []
  }
 ],
 "metadata": {
  "kernelspec": {
   "display_name": "Python 3",
   "language": "python",
   "name": "python3"
  },
  "language_info": {
   "codemirror_mode": {
    "name": "ipython",
    "version": 3
   },
   "file_extension": ".py",
   "mimetype": "text/x-python",
   "name": "python",
   "nbconvert_exporter": "python",
   "pygments_lexer": "ipython3",
   "version": "3.7.0"
  }
 },
 "nbformat": 4,
 "nbformat_minor": 4
}
